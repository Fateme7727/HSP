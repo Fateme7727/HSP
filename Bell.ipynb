{
  "nbformat": 4,
  "nbformat_minor": 0,
  "metadata": {
    "colab": {
      "provenance": []
    },
    "kernelspec": {
      "name": "python3",
      "display_name": "Python 3"
    },
    "language_info": {
      "name": "python"
    }
  },
  "cells": [
    {
      "cell_type": "code",
      "source": [
        "!pip install -U classiq"
      ],
      "metadata": {
        "id": "JfPK93ot65fU"
      },
      "execution_count": null,
      "outputs": []
    },
    {
      "cell_type": "code",
      "source": [
        "import classiq"
      ],
      "metadata": {
        "id": "-Ei9aYULtvGg"
      },
      "execution_count": 39,
      "outputs": []
    },
    {
      "cell_type": "code",
      "source": [
        "from classiq import *\n",
        "import numpy as np\n",
        "from classiq import synthesize\n",
        "from classiq import show\n",
        "import math"
      ],
      "metadata": {
        "id": "j5jbWGN2uRoC"
      },
      "execution_count": 3,
      "outputs": []
    },
    {
      "cell_type": "code",
      "source": [
        "from classiq import (\n",
        "    CInt,\n",
        "    Output,\n",
        "    QArray,\n",
        "    QBit,\n",
        "    X,\n",
        "    allocate,\n",
        "    control,\n",
        "    create_model,\n",
        "    hadamard_transform,\n",
        "    invert,\n",
        "    power,\n",
        "    qft,\n",
        "    qfunc,\n",
        "    repeat,\n",
        "    unitary,\n",
        ")"
      ],
      "metadata": {
        "id": "UVzMhcMgx3Wi"
      },
      "execution_count": 26,
      "outputs": []
    },
    {
      "cell_type": "code",
      "source": [
        "from classiq import (\n",
        "    CCX,\n",
        "    CPHASE,\n",
        "    CX,\n",
        "    PHASE,\n",
        "    CInt,\n",
        "    H,\n",
        "    Output,\n",
        "    Preferences,\n",
        "    QArray,\n",
        "    QBit,\n",
        "    X,\n",
        "    allocate,\n",
        "    apply_to_all,\n",
        "    bind,\n",
        "    control,\n",
        "    create_model,\n",
        "    invert,\n",
        "    qft,\n",
        "    qfunc,\n",
        "    repeat,\n",
        "    show,\n",
        "    synthesize,\n",
        ")\n",
        "\n",
        "from classiq.qmod.symbolic import pi\n",
        "\n",
        "@qfunc\n",
        "def my_qft_step(qbv: QArray[QBit]) -> None:\n",
        "    H(qbv[0])\n",
        "    repeat(\n",
        "        count=qbv.len - 1,\n",
        "        iteration=lambda index: CPHASE(pi / 2 ** (index + 1), qbv[0], qbv[index + 1]),\n",
        "    )\n",
        "\n",
        "\n",
        "# qft without SWAP gates\n",
        "@qfunc\n",
        "def qft_ns(qbv: QArray[QBit]) -> None:\n",
        "    repeat(\n",
        "        count=qbv.len,\n",
        "        iteration=lambda index: my_qft_step(qbv[index : qbv.len]),\n",
        "    )\n",
        "\n",
        "@qfunc\n",
        "def apply_rotations_diff_ijl(N: CInt, i: CInt, j:CInt, ctrl1: QBit, ctrl2:QBit , y:QArray):\n",
        "  ctrl = QArray('ctrl')\n",
        "  bind([ctrl1, ctrl2] , ctrl)\n",
        "  # Calculate the phase angle separately and then pass it to PHASE\n",
        "  control(ctrl, lambda: repeat(Y_S , lambda k : PHASE((2* pi *(2**(i+j+k))/ N) % (2 * pi), y[k])))\n",
        "  bind(ctrl, [ctrl1, ctrl2])\n",
        "\n",
        "@qfunc\n",
        "def apply_rotations1(N: CInt , i: CInt, ctrl1: QBit, y:QArray)  :\n",
        "          control(ctrl1, lambda: repeat(Y_S, lambda k: PHASE(2* pi * ((2**(2*i+k))%N) /N,y[k])))\n",
        "\n",
        "@qfunc\n",
        "def modular_square(N: CInt, x: QArray[QNum], y: QArray[QNum]):\n",
        "  hadamard_transform(y)\n",
        "  for i in range(X_S):\n",
        "    apply_rotations1(N, i, x[i], y)\n",
        "    for j in range(i+1, X_S):\n",
        "      apply_rotations_diff_ijl(N,i,i+j+1, x[i],x[j], y)\n",
        "    invert(lambda: qft(y))\n"
      ],
      "metadata": {
        "id": "TJb7Rgkdugbh"
      },
      "execution_count": 30,
      "outputs": []
    },
    {
      "cell_type": "code",
      "source": [
        "N=8\n",
        "Y_S=int(np.ceil(np.log2(N)))\n",
        "X_S=Y_S\n",
        "print(N, Y)"
      ],
      "metadata": {
        "id": "gXbLg3_V69Rc"
      },
      "execution_count": null,
      "outputs": []
    },
    {
      "cell_type": "code",
      "source": [
        "@qfunc\n",
        "def main(x: Output[QArray], y: Output[QArray]):\n",
        "  N=8\n",
        "  allocate(X_S , x)\n",
        "  allocate(Y_S,y)\n",
        "  within_apply(within=lambda: qft(x), apply = lambda: qft(x)) # Added 'within' argument\n",
        "  modular_square(N, x, y)\n",
        "qmod = create_model(main)"
      ],
      "metadata": {
        "id": "LEw9Ng9Evzbd"
      },
      "execution_count": 47,
      "outputs": []
    },
    {
      "cell_type": "code",
      "source": [
        "from classiq import show, synthesize\n",
        "\n",
        "qprog = synthesize(qmod)\n",
        "show(qprog)"
      ],
      "metadata": {
        "id": "1SGHzB_N60HF"
      },
      "execution_count": null,
      "outputs": []
    },
    {
      "cell_type": "code",
      "source": [
        "from classiq import execute\n",
        "\n",
        "results = execute(qprog).result()\n",
        "res = results[0].value\n",
        "\n",
        "print(res.parsed_states)\n"
      ],
      "metadata": {
        "id": "5_OKPGE5618U"
      },
      "execution_count": null,
      "outputs": []
    }
  ]
}